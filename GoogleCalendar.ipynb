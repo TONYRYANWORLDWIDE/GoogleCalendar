{
 "cells": [
  {
   "cell_type": "code",
   "execution_count": 10,
   "metadata": {},
   "outputs": [
    {
     "name": "stdout",
     "output_type": "stream",
     "text": [
      "Getting the upcoming 10 events\n",
      "2020-12-14T16:45:00-05:00 GIRL SCOUT MEETING\n",
      "2020-12-19T11:35:00-05:00 CHECK IN SW FLIGHT\n",
      "2020-12-19T15:00:00-05:00 Lana Prytuliak\n",
      "2020-12-20 HOME FOR CHRISTMAS\n",
      "2020-12-26 QUIET PLACE CABIN\n",
      "2020-12-28T16:45:00-05:00 GIRL SCOUT MEETING\n",
      "2020-12-30T10:15:00-05:00 CHECK IN SW FLIGHT\n",
      "2021-01-02T09:00:00-05:00 Jenni Dickinson\n",
      "2021-01-04 OFF SCHOOL\n",
      "2021-01-08 WOMENS CONFERENCE KENTUCKY\n",
      "2021-01-11T16:45:00-05:00 GIRL SCOUT MEETING\n",
      "2021-01-18 OFF SCHOOL\n",
      "2021-01-25T16:45:00-05:00 GIRL SCOUT MEETING\n",
      "2021-02-08T16:45:00-05:00 GIRL SCOUT MEETING\n",
      "2021-02-15 OFF SCHOOL\n",
      "2021-02-22T16:45:00-05:00 GIRL SCOUT MEETING\n",
      "2021-03-08T16:45:00-05:00 GIRL SCOUT MEETING\n",
      "2021-03-12 OFF SCHOOL - SPRING BREAK\n",
      "2021-03-22T16:45:00-04:00 GIRL SCOUT MEETING\n",
      "2021-04-05T16:45:00-04:00 GIRL SCOUT MEETING\n"
     ]
    }
   ],
   "source": [
    "from __future__ import print_function\n",
    "import datetime\n",
    "import pickle\n",
    "import os.path\n",
    "from googleapiclient.discovery import build\n",
    "from google_auth_oauthlib.flow import InstalledAppFlow\n",
    "from google.auth.transport.requests import Request\n",
    "\n",
    "# If modifying these scopes, delete the file token.pickle.\n",
    "SCOPES = ['https://www.googleapis.com/auth/calendar.readonly']\n",
    "\n",
    "\n",
    "def main():\n",
    "    \"\"\"Shows basic usage of the Google Calendar API.\n",
    "    Prints the start and name of the next 10 events on the user's calendar.\n",
    "    \"\"\"\n",
    "    creds = None\n",
    "    # The file token.pickle stores the user's access and refresh tokens, and is\n",
    "    # created automatically when the authorization flow completes for the first\n",
    "    # time.\n",
    "    if os.path.exists('token.pickle'):\n",
    "        with open('token.pickle', 'rb') as token:\n",
    "            creds = pickle.load(token)\n",
    "    # If there are no (valid) credentials available, let the user log in.\n",
    "    if not creds or not creds.valid:\n",
    "        if creds and creds.expired and creds.refresh_token:\n",
    "            creds.refresh(Request())\n",
    "        else:\n",
    "            flow = InstalledAppFlow.from_client_secrets_file(\n",
    "                'credentials.json', SCOPES)\n",
    "            creds = flow.run_local_server(port=0)\n",
    "        # Save the credentials for the next run\n",
    "        with open('token.pickle', 'wb') as token:\n",
    "            pickle.dump(creds, token)\n",
    "\n",
    "    service = build('calendar', 'v3', credentials=creds)\n",
    "\n",
    "    # Call the Calendar API\n",
    "    now = datetime.datetime.utcnow().isoformat() + 'Z' # 'Z' indicates UTC time\n",
    "    print('Getting the upcoming 10 events')\n",
    "    events_result = service.events().list(calendarId='primary', timeMin=now,\n",
    "                                        maxResults=20, singleEvents=True,\n",
    "                                        orderBy='startTime').execute()\n",
    "    events = events_result.get('items', [])\n",
    "\n",
    "    if not events:\n",
    "        print('No upcoming events found.')\n",
    "    for event in events:\n",
    "        start = event['start'].get('dateTime', event['start'].get('date'))\n",
    "        print(start, event['summary'])\n",
    "\n",
    "\n",
    "if __name__ == '__main__':\n",
    "    main()"
   ]
  },
  {
   "cell_type": "code",
   "execution_count": 142,
   "metadata": {},
   "outputs": [
    {
     "name": "stdout",
     "output_type": "stream",
     "text": [
      "{'kind': 'calendar#event', 'etag': '\"3214727677466000\"', 'id': '0lkjpsapkthcmn1b0dhusvsv5q', 'status': 'confirmed', 'htmlLink': 'https://www.google.com/calendar/event?eid=MGxranBzYXBrdGhjbW4xYjBkaHVzdnN2NXEgY3J5c3RhbG1hcmllcnlhbkBt', 'created': '2020-12-07T17:57:18.000Z', 'updated': '2020-12-07T17:57:18.733Z', 'summary': 'Lana Prytuliak', 'description': \"<b>TUCKER RANCH, THEN DT WINTER GARDEN</b><br><b><br></b><br><b>$375</b><br><b>$25 DEPOSIT REC'D VIA CASHAPP</b><br><b><br></b><br><b>Prytuliak@yahoo.com - Contract NOT sent.</b>\", 'location': 'Tucker Ranch Recreation and Nature Complex, 70 Tucker Rd, Winter Garden, FL 34787, USA', 'colorId': '4', 'creator': {'email': 'crystalmarieryan@gmail.com', 'self': True}, 'organizer': {'email': 'crystalmarieryan@gmail.com', 'self': True}, 'start': {'dateTime': '2020-12-19T15:00:00-05:00'}, 'end': {'dateTime': '2020-12-19T17:30:00-05:00'}, 'iCalUID': '0lkjpsapkthcmn1b0dhusvsv5q@google.com', 'sequence': 0, 'reminders': {'useDefault': True}}\n",
      "\n",
      "Lana Prytuliak \"3214727677466000\" 2020-12-19T15:00:00-05:00\n",
      "\n",
      "<b>TUCKER RANCH, THEN DT WINTER GARDEN</b><br><b><br></b><br><b>$375</b><br><b>$25 DEPOSIT REC'D VIA CASHAPP</b><br><b><br></b><br><b>Prytuliak@yahoo.com - Contract NOT sent.</b>\n",
      "\n",
      "{'kind': 'calendar#event', 'etag': '\"3215636827982000\"', 'id': '5757r2ft601hm38769jbrgj4iv', 'status': 'confirmed', 'htmlLink': 'https://www.google.com/calendar/event?eid=NTc1N3IyZnQ2MDFobTM4NzY5amJyZ2o0aXYgY3J5c3RhbG1hcmllcnlhbkBt', 'created': '2020-12-13T00:13:33.000Z', 'updated': '2020-12-13T00:13:33.991Z', 'summary': 'Jenni Dickinson', 'description': \"<b>315 McKinley Avenue&nbsp;</b><br><b>Cocoa Beach, FL 32931</b><br><b><br></b><br><b>DEPOSIT REC'D VIA VENMO - $25</b><br><b><br></b><br><b>$325&nbsp;</b><br><b><br></b><br>CONTRACT NOT SENT<br><br><b><i>jmbarthlow@hotmail.com</i></b>\", 'location': '315 McKinley Ave, Cocoa Beach, FL 32931, USA', 'colorId': '4', 'creator': {'email': 'crystalmarieryan@gmail.com', 'self': True}, 'organizer': {'email': 'crystalmarieryan@gmail.com', 'self': True}, 'start': {'dateTime': '2021-01-02T09:00:00-05:00'}, 'end': {'dateTime': '2021-01-02T10:00:00-05:00'}, 'iCalUID': '5757r2ft601hm38769jbrgj4iv@google.com', 'sequence': 0, 'reminders': {'useDefault': True}}\n",
      "\n",
      "Jenni Dickinson \"3215636827982000\" 2021-01-02T09:00:00-05:00\n",
      "\n",
      "<b>315 McKinley Avenue&nbsp;</b><br><b>Cocoa Beach, FL 32931</b><br><b><br></b><br><b>DEPOSIT REC'D VIA VENMO - $25</b><br><b><br></b><br><b>$325&nbsp;</b><br><b><br></b><br>CONTRACT NOT SENT<br><br><b><i>jmbarthlow@hotmail.com</i></b>\n",
      "\n"
     ]
    }
   ],
   "source": [
    "creds = None\n",
    "    # The file token.pickle stores the user's access and refresh tokens, and is\n",
    "    # created automatically when the authorization flow completes for the first\n",
    "    # time.\n",
    "if os.path.exists('token.pickle'):\n",
    "    with open('token.pickle', 'rb') as token:\n",
    "        creds = pickle.load(token)\n",
    "# If there are no (valid) credentials available, let the user log in.\n",
    "if not creds or not creds.valid:\n",
    "    if creds and creds.expired and creds.refresh_token:\n",
    "        creds.refresh(Request())\n",
    "    else:\n",
    "        flow = InstalledAppFlow.from_client_secrets_file(\n",
    "            'credentials.json', SCOPES)\n",
    "        creds = flow.run_local_server(port=0)\n",
    "    # Save the credentials for the next run\n",
    "    with open('token.pickle', 'wb') as token:\n",
    "        pickle.dump(creds, token)\n",
    "\n",
    "service = build('calendar', 'v3', credentials=creds)\n",
    "\n",
    "# Call the Calendar API\n",
    "now = datetime.datetime.utcnow().isoformat() + 'Z' # 'Z' indicates UTC time\n",
    "# print('Getting the upcoming 10 events')\n",
    "events_result = service.events().list(calendarId='primary', timeMin=now,\n",
    "                                    maxResults=20, singleEvents=True,\n",
    "                                    orderBy='startTime').execute()\n",
    "\n",
    "# service.calendarList().list(maxResults = 20).execute()\n",
    "events_result\n",
    "events = events_result.get('items', [])\n",
    "\n",
    "\n",
    "if not events:\n",
    "    print('No upcoming events found.')\n",
    "for event in events:\n",
    "    if 'colorId' in event:\n",
    "        if event['colorId'] == '4':\n",
    "            print(event)\n",
    "            print('')\n",
    "#             print(event['colorId'])\n",
    "#             start = event['start'].get('dateTime', event['start'].get('date'))\n",
    "            print(event['summary'],event['etag'],event['start']['dateTime'] \n",
    "                 )\n",
    "            print('')\n",
    "            print(event['description'])\n",
    "            print('')\n",
    "\n",
    "        "
   ]
  },
  {
   "cell_type": "code",
   "execution_count": 140,
   "metadata": {},
   "outputs": [],
   "source": [
    "# service.events().get(calendarId = 'primary')\n",
    "# service.events().list(calendarId = 'primary').execute().get('items', [])\n",
    "\n",
    "# service.calendarList().list().execute()\n",
    "# service.colors().get().execute()"
   ]
  },
  {
   "cell_type": "code",
   "execution_count": 141,
   "metadata": {},
   "outputs": [
    {
     "name": "stdout",
     "output_type": "stream",
     "text": [
      "{'kind': 'calendar#event', 'etag': '\"3215636827982000\"', 'id': '5757r2ft601hm38769jbrgj4iv', 'status': 'confirmed', 'htmlLink': 'https://www.google.com/calendar/event?eid=NTc1N3IyZnQ2MDFobTM4NzY5amJyZ2o0aXYgY3J5c3RhbG1hcmllcnlhbkBt', 'created': '2020-12-13T00:13:33.000Z', 'updated': '2020-12-13T00:13:33.991Z', 'summary': 'Jenni Dickinson', 'description': \"<b>315 McKinley Avenue&nbsp;</b><br><b>Cocoa Beach, FL 32931</b><br><b><br></b><br><b>DEPOSIT REC'D VIA VENMO - $25</b><br><b><br></b><br><b>$325&nbsp;</b><br><b><br></b><br>CONTRACT NOT SENT<br><br><b><i>jmbarthlow@hotmail.com</i></b>\", 'location': '315 McKinley Ave, Cocoa Beach, FL 32931, USA', 'colorId': '4', 'creator': {'email': 'crystalmarieryan@gmail.com', 'self': True}, 'organizer': {'email': 'crystalmarieryan@gmail.com', 'self': True}, 'start': {'dateTime': '2021-01-02T09:00:00-05:00'}, 'end': {'dateTime': '2021-01-02T10:00:00-05:00'}, 'iCalUID': '5757r2ft601hm38769jbrgj4iv@google.com', 'sequence': 0, 'reminders': {'useDefault': True}}\n",
      "\n",
      "4\n"
     ]
    }
   ],
   "source": [
    "print(events[7])\n",
    "print('')\n",
    "print(events[7]['colorId'])\n"
   ]
  }
 ],
 "metadata": {
  "kernelspec": {
   "display_name": "Python 3",
   "language": "python",
   "name": "python3"
  },
  "language_info": {
   "codemirror_mode": {
    "name": "ipython",
    "version": 3
   },
   "file_extension": ".py",
   "mimetype": "text/x-python",
   "name": "python",
   "nbconvert_exporter": "python",
   "pygments_lexer": "ipython3",
   "version": "3.7.7"
  }
 },
 "nbformat": 4,
 "nbformat_minor": 4
}
